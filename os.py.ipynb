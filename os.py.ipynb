{
 "cells": [
  {
   "cell_type": "code",
   "execution_count": null,
   "metadata": {},
   "outputs": [],
   "source": [
    "import os\n",
    "import pyttsx3\n",
    "\n",
    "print('\\033[1m',\"WELCOME TO PROGRAMMING WORLD\".center(50))\n",
    "print('\\033[0m')\n",
    "pyttsx3.speak('WELCOME TO PROGRAMMING WORLD')\n",
    "\n",
    "print('\\033[1m',\"APPLICATION\")\n",
    "print('\\033[0m',end='')\n",
    "pyttsx3.speak('List of the application')\n",
    "print(\"-> Notepad\")\n",
    "pyttsx3.speak('Notepad')\n",
    "print(\"-> Google Chrome\")\n",
    "pyttsx3.speak('Google Chrome')\n",
    "print(\"-> Calculator\")\n",
    "pyttsx3.speak('Calculator')\n",
    "print(\"-> Meadia Player\")\n",
    "pyttsx3.speak('Media Player')\n",
    "print(\"-> Camera\")\n",
    "pyttsx3.speak('camera')\n",
    "print()\n",
    "\n",
    "\n",
    "def application(insert):\n",
    "        if ('notepad' in insert) or ('text editor' in insert):\n",
    "            pyttsx3.speak('Opening notepad for you')\n",
    "            os.system('notepad')\n",
    "            restart = 0\n",
    "        elif ('google chrome' in insert) or ('chrome' in insert):\n",
    "            pyttsx3.speak('Opening google chrome for you')\n",
    "            os.system('chrome')\n",
    "            restart = 0\n",
    "        elif ('calculator' in insert) :\n",
    "            pyttsx3.speak('Opening calculator for you')\n",
    "            os.system('calc')\n",
    "            restart = 0\n",
    "        elif ('Media player' in insert) or ('player' in insert):\n",
    "            pyttsx3.speak('Opening media player for you')\n",
    "            os.system('wmplayer')\n",
    "            restart = 0\n",
    "        elif ('camera' in insert) or ('webcam' in insert):\n",
    "            pyttsx3.speak('Opening camera for you')\n",
    "            os.system('start microsoft.windows.camera:')\n",
    "            restart = 0\n",
    "        else:\n",
    "            print('\\033[1m',\"Sorry, I don't understand\",'\\033[0m',)\n",
    "            pyttsx3.speak(\"Sorry, I don't understand\")\n",
    "            restart = 1\n",
    "        return restart\n",
    "    \n",
    "restart = 1\n",
    "while restart==1:\n",
    "    print('\\033[1m','Which application do you want:','\\033[0m',end='')\n",
    "    pyttsx3.speak('Which application do you want')\n",
    "    insert = input()\n",
    "    insert = insert.lower()\n",
    "    \n",
    "    if ('run' in insert) or ('execute' in insert) or ('launch' in insert) or ('open' in insert):\n",
    "        restart = application(insert)\n",
    "    elif ('not ' in insert) or ('do not ' in insert):\n",
    "        print('\\033[1m','ok we are not launching that programm','\\033[0m')\n",
    "        pyttsx3.speak(\"ok we are not launching that programm\")\n",
    "    else:\n",
    "        restart = application(insert)\n",
    "    if restart == 0:\n",
    "        print(\"THANK YOU\")\n",
    "        pyttsx3.speak('thank you')"
   ]
  },
  {
   "cell_type": "code",
   "execution_count": null,
   "metadata": {
    "collapsed": true
   },
   "outputs": [],
   "source": []
  },
  {
   "cell_type": "code",
   "execution_count": null,
   "metadata": {},
   "outputs": [],
   "source": []
  }
 ],
 "metadata": {
  "kernelspec": {
   "display_name": "Python 3",
   "language": "python",
   "name": "python3"
  },
  "language_info": {
   "codemirror_mode": {
    "name": "ipython",
    "version": 3
   },
   "file_extension": ".py",
   "mimetype": "text/x-python",
   "name": "python",
   "nbconvert_exporter": "python",
   "pygments_lexer": "ipython3",
   "version": "3.8.3"
  }
 },
 "nbformat": 4,
 "nbformat_minor": 4
}
